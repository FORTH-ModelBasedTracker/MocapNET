{
 "cells": [
  {
   "cell_type": "code",
   "execution_count": null,
   "metadata": {},
   "outputs": [],
   "source": [
    "#<----- Click this play button to start!\n",
    "#If you deploy this on your PC, run : jupyter notebook initialize.ipynb\n",
    "!git clone -b mnet4 https://github.com/FORTH-ModelBasedTracker/MocapNET.git\n",
    "!MocapNET/src/python/mnet4/setup.sh --collab\n",
    "import os\n",
    "os.chdir(\"/content/MocapNET/src/python/mnet4\")\n",
    "print(\"Ready..\")\n",

    "print(\"Will not try to show output..\")\n",
    "print(\" of : python3 -m mediapipeHolisticWebcamMocapNET --from shuffle.webm --save --plot \")\n",

    "from IPython.display import Video\n",

    "Video(\"shuffle.webm\")\n",
    "Video(\"livelastRun3DHiRes.mp4\")\n",
    "Video(\"livelastPlot3DHiRes.mp4\")\n",
    "print(\"BVH results in out.bvh file \")\n"
   ]
  }
 ],
 "metadata": {},
 "nbformat": 4,
 "nbformat_minor": 1
}
