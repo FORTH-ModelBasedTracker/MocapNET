{
 "cells": [
  {
   "cell_type": "code",
   "execution_count": null,
   "metadata": {},
   "outputs": [],
   "source": [
    "#<----- Click this play button!\n",
    "#If you deploy this on your PC, run : jupyter notebook initialize.ipynb\n",
    "!git clone -b mnet4 https://github.com/FORTH-ModelBasedTracker/MocapNET.git\n",
    "!MocapNET/src/python/mnet4/setup.sh --collab\n",
    "import os\n",
    "os.chdir(\"/content/MocapNET/src/python/mnet4\")\n",
    "print(\"Ready..\")\n",

    "print(\"Will not try to show output..\")\n",
    "from IPython.display import Video\n",

    "Video(\"livelastRun3DHiRes.mp4\")\n",
    "Video(\"livelastPlot3DHiRes.mp4\")\n"
   ]
  }
 ],
 "metadata": {},
 "nbformat": 4,
 "nbformat_minor": 1
}
