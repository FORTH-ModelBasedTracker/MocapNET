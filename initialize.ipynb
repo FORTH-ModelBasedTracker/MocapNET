{
 "cells": [
  {
   "cell_type": "code",
   "execution_count": null,
   "metadata": {},
   "outputs": [],
   "source": [
    "#RUN : jupyter notebook initialize.ipynb\n",
    "!git clone -b mnet4 https://github.com/FORTH-ModelBasedTracker/MocapNET.git\n",
    "!MocapNET/src/python/mnet4/setup.sh\n",
    "import os\n",
    "os.chdir(\"/content/MocapNET/src/python/mnet4\")\n",
    "print(\"Ready..\")\n"
   ]
  }
 ],
 "metadata": {},
 "nbformat": 4,
 "nbformat_minor": 1
}
