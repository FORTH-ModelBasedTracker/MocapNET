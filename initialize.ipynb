import os 

os.chdir("src/python/mnet4")
os.system("setup.sh")
