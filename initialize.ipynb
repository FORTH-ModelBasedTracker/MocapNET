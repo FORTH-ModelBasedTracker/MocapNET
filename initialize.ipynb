{
 "cells": [
  {
   "cell_type": "code",
   "execution_count": null,
   "metadata": {},
   "outputs": [],
   "source": [
    "#RUN : jupyter notebook initialize.ipynb\n",
    "import os\n",
    "os.chdir(\"src/python/mnet4\")\n",
    "os.system(\"setup.sh\")\n"
   ]
  }
 ],
 "metadata": {},
 "nbformat": 4,
 "nbformat_minor": 1
}
