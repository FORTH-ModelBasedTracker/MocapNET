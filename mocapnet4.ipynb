{
 "cells": [
  {
   "cell_type": "code",
   "execution_count": null,
   "metadata": {},
   "outputs": [],
   "source": [
    "#<----- Click this play button to start MocapNET setup!\n",
    "#If you deploy this on your PC, run : jupyter notebook initialize.ipynb\n",
    "!git clone -b mnet4 https://github.com/FORTH-ModelBasedTracker/MocapNET.git\n",
    "!MocapNET/src/python/mnet4/setup.sh --collab\n",
    "import os\n",
    "os.chdir(\"/content/MocapNET/src/python/mnet4\")\n",
    "print(\"MocapNET setup is finished..\")\n"
   ]
  },
  {
   "cell_type": "code",
   "execution_count": null,
   "metadata": {},
   "outputs": [],
   "source": [
    "#Get a video ( e.g. shuffle.webm )\n",
    "!wget http://ammar.gr/mocapnet/shuffle.webm\n",
    "\n",
    "#Run it through MocapNET!\n",
    "!python3 -m mediapipeHolisticWebcamMocapNET --from shuffle.webm --all --save --plot --headless\n",
    "\n",
    "#Output is on out.bvh, livelastRun3DHiRes.mp4, livelastPlot3DHiRes.mp4! \n",
    "\n",
    "from IPython.display import Video"
   ]
  },
  {
   "cell_type": "code",
   "execution_count": null,
   "metadata": {},
   "outputs": [],
   "source": [
    "#Show generated BVH angle plots!\n",
    "from IPython.display import Video\n",
    "Video(\"livelastPlot3DHiRes.mp4\",embed=True)"
   ]
  },
  {
   "cell_type": "code",
   "execution_count": null,
   "metadata": {},
   "outputs": [],
   "source": [
    "#Show generated Video File\n",
    "from IPython.display import Video\n",
    "Video(\"livelastRun3DHiRes.mp4\",embed=True)"
   ]
  },
  {
   "cell_type": "code",
   "execution_count": null,
   "metadata": {},
   "outputs": [],
   "source": []
  }
 ],
 "metadata": {
  "colab": {
   "provenance": []
  },
  "kernelspec": {
   "display_name": "Python 3 (ipykernel)",
   "language": "python",
   "name": "python3"
  },
  "language_info": {
   "codemirror_mode": {
    "name": "ipython",
    "version": 3
   },
   "file_extension": ".py",
   "mimetype": "text/x-python",
   "name": "python",
   "nbconvert_exporter": "python",
   "pygments_lexer": "ipython3",
   "version": "3.10.12"
  }
 },
 "nbformat": 4,
 "nbformat_minor": 1
}
